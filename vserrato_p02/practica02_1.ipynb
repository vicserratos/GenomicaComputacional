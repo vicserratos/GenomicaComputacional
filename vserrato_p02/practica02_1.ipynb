{
 "cells": [
  {
   "cell_type": "markdown",
   "metadata": {},
   "source": [
    "# Genómica Computacional\n",
    "## Práctica 02 - Herramientas bioinformáticas (Python)"
   ]
  },
  {
   "cell_type": "markdown",
   "metadata": {},
   "source": [
    "1) Escribir un programa que me permita aplicar el 10% de descuento si la compra total es mayor a $100."
   ]
  },
  {
   "cell_type": "code",
   "execution_count": 5,
   "metadata": {},
   "outputs": [
    {
     "name": "stdout",
     "output_type": "stream",
     "text": [
      "Monto compra 1 $: 50\n",
      "Monto compra 2 $: 51\n",
      "Tienes descuento!!!, monto a pagar es: $111.1\n"
     ]
    }
   ],
   "source": [
    "montoCompra1= int(input(\"Monto compra 1 $: \"))\n",
    "montoCompra2= int(input(\"Monto compra 2 $: \"))\n",
    "montoTotal = montoCompra1 + montoCompra2\n",
    "\n",
    "if montoTotal > 100:\n",
    "    montoDescuento = (montoTotal *.10) + montoTotal\n",
    "    print(\"Tienes descuento!!!, monto a pagar es: $\" + str(montoDescuento))\n",
    "else:\n",
    "    print(\"No tienes descuento, monto a pagar es: $\" + str(montoTotal))"
   ]
  },
  {
   "cell_type": "markdown",
   "metadata": {},
   "source": [
    "2) Sabiendo que la fórmula para obtener el área de un triángulo es a = (b x h) / 2, donde b es la longitud de la base del triángulo, y h es su altura. Escribir un programa que permita realizar el cálculo del área de un triángulo. Si el área contiene valores decimales, imprimir el resultado con dos dígitos. "
   ]
  },
  {
   "cell_type": "code",
   "execution_count": 6,
   "metadata": {},
   "outputs": [
    {
     "name": "stdout",
     "output_type": "stream",
     "text": [
      "Introduce base triángulo: 7.5\n",
      "Introduce altura triángulo: 3.3\n",
      "Área del triángulo es: 12.38\n"
     ]
    }
   ],
   "source": [
    "base= float(input(\"Introduce base triángulo: \"))\n",
    "altura= float(input(\"Introduce altura triángulo: \"))\n",
    "\n",
    "area =  (base * altura) / 2\n",
    "\n",
    "print(\"Área del triángulo es: \" + \"{0:.2f}\".format(area))"
   ]
  },
  {
   "cell_type": "markdown",
   "metadata": {},
   "source": [
    "3) La fórmula para el Índice de Masa Corportal es *IMC = kg/m2* donde kg es el peso de la persona en kilogramos y m2 es la altura en metros al cuadrado. Realizar un programa que calcula el IMC cuando se le provee el peso y la altura. "
   ]
  },
  {
   "cell_type": "code",
   "execution_count": 11,
   "metadata": {},
   "outputs": [
    {
     "name": "stdout",
     "output_type": "stream",
     "text": [
      "Introduce peso en kg: 78\n",
      "Introduce altura en m: 1.72\n",
      "El indice de masa corporal es: 26.365603028664147\n"
     ]
    }
   ],
   "source": [
    "peso= float(input(\"Introduce peso en kg: \"))\n",
    "altura= float(input(\"Introduce altura en m: \"))\n",
    "\n",
    "masaCorporal = peso / altura ** 2\n",
    "\n",
    "print(\"El indice de masa corporal es: \" + str(masaCorporal))"
   ]
  }
 ],
 "metadata": {
  "kernelspec": {
   "display_name": "Python 3",
   "language": "python",
   "name": "python3"
  },
  "language_info": {
   "codemirror_mode": {
    "name": "ipython",
    "version": 3
   },
   "file_extension": ".py",
   "mimetype": "text/x-python",
   "name": "python",
   "nbconvert_exporter": "python",
   "pygments_lexer": "ipython3",
   "version": "3.8.5"
  }
 },
 "nbformat": 4,
 "nbformat_minor": 2
}
